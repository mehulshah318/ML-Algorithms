{
 "cells": [
  {
   "cell_type": "code",
   "execution_count": 1,
   "metadata": {},
   "outputs": [],
   "source": [
    "from pyspark import SparkConf, SparkContext\n",
    "from pyspark.sql import SQLContext\n",
    "sc = SparkContext()\n",
    "sqlContext = SQLContext(sc)"
   ]
  },
  {
   "cell_type": "code",
   "execution_count": 4,
   "metadata": {},
   "outputs": [
    {
     "data": {
      "text/plain": [
       "[Row(_id=15339, Assigned_ID=1, Outbreak Associated='Sporadic', Age Group='50 to 59 Years', Neighbourhood Name='Willowdale East', FSA='M2N', Source of Infection='Travel', Classification='CONFIRMED', Episode Date='2020-01-22', Reported Date='2020-01-23', Client Gender='FEMALE', Outcome='RESOLVED', Currently Hospitalized='No', Currently in ICU='No', Currently Intubated='No', Ever Hospitalized='No', Ever in ICU='No', Ever Intubated='No')]"
      ]
     },
     "execution_count": 4,
     "metadata": {},
     "output_type": "execute_result"
    }
   ],
   "source": [
    "company_df = sqlContext.read.format(\"com.databricks.spark.csv\").options(header=\"true\", inferschema=\"true\").load(\"C:\\\\Users\\\\12499\\\\Downloads\\\\COVID19 cases.csv\")\n",
    "company_df.take(1)"
   ]
  },
  {
   "cell_type": "code",
   "execution_count": 5,
   "metadata": {},
   "outputs": [
    {
     "name": "stdout",
     "output_type": "stream",
     "text": [
      "root\n",
      " |-- _id: integer (nullable = true)\n",
      " |-- Assigned_ID: integer (nullable = true)\n",
      " |-- Outbreak Associated: string (nullable = true)\n",
      " |-- Age Group: string (nullable = true)\n",
      " |-- Neighbourhood Name: string (nullable = true)\n",
      " |-- FSA: string (nullable = true)\n",
      " |-- Source of Infection: string (nullable = true)\n",
      " |-- Classification: string (nullable = true)\n",
      " |-- Episode Date: string (nullable = true)\n",
      " |-- Reported Date: string (nullable = true)\n",
      " |-- Client Gender: string (nullable = true)\n",
      " |-- Outcome: string (nullable = true)\n",
      " |-- Currently Hospitalized: string (nullable = true)\n",
      " |-- Currently in ICU: string (nullable = true)\n",
      " |-- Currently Intubated: string (nullable = true)\n",
      " |-- Ever Hospitalized: string (nullable = true)\n",
      " |-- Ever in ICU: string (nullable = true)\n",
      " |-- Ever Intubated: string (nullable = true)\n",
      "\n"
     ]
    }
   ],
   "source": [
    "company_df.cache()\n",
    "company_df.printSchema()"
   ]
  },
  {
   "cell_type": "code",
   "execution_count": 7,
   "metadata": {},
   "outputs": [
    {
     "data": {
      "text/html": [
       "<div>\n",
       "<style scoped>\n",
       "    .dataframe tbody tr th:only-of-type {\n",
       "        vertical-align: middle;\n",
       "    }\n",
       "\n",
       "    .dataframe tbody tr th {\n",
       "        vertical-align: top;\n",
       "    }\n",
       "\n",
       "    .dataframe thead th {\n",
       "        text-align: right;\n",
       "    }\n",
       "</style>\n",
       "<table border=\"1\" class=\"dataframe\">\n",
       "  <thead>\n",
       "    <tr style=\"text-align: right;\">\n",
       "      <th></th>\n",
       "      <th>0</th>\n",
       "      <th>1</th>\n",
       "      <th>2</th>\n",
       "      <th>3</th>\n",
       "      <th>4</th>\n",
       "    </tr>\n",
       "  </thead>\n",
       "  <tbody>\n",
       "    <tr>\n",
       "      <th>summary</th>\n",
       "      <td>count</td>\n",
       "      <td>mean</td>\n",
       "      <td>stddev</td>\n",
       "      <td>min</td>\n",
       "      <td>max</td>\n",
       "    </tr>\n",
       "    <tr>\n",
       "      <th>_id</th>\n",
       "      <td>15432</td>\n",
       "      <td>23054.5</td>\n",
       "      <td>4454.979012296242</td>\n",
       "      <td>15339</td>\n",
       "      <td>30770</td>\n",
       "    </tr>\n",
       "    <tr>\n",
       "      <th>Assigned_ID</th>\n",
       "      <td>15432</td>\n",
       "      <td>7727.875194401244</td>\n",
       "      <td>4468.050671189019</td>\n",
       "      <td>1</td>\n",
       "      <td>15485</td>\n",
       "    </tr>\n",
       "    <tr>\n",
       "      <th>Outbreak Associated</th>\n",
       "      <td>15432</td>\n",
       "      <td>None</td>\n",
       "      <td>None</td>\n",
       "      <td>Outbreak Associated</td>\n",
       "      <td>Sporadic</td>\n",
       "    </tr>\n",
       "    <tr>\n",
       "      <th>Age Group</th>\n",
       "      <td>15406</td>\n",
       "      <td>None</td>\n",
       "      <td>None</td>\n",
       "      <td>19 and younger</td>\n",
       "      <td>90 and older</td>\n",
       "    </tr>\n",
       "    <tr>\n",
       "      <th>Neighbourhood Name</th>\n",
       "      <td>14826</td>\n",
       "      <td>None</td>\n",
       "      <td>None</td>\n",
       "      <td>Agincourt North</td>\n",
       "      <td>Yorkdale-Glen Park</td>\n",
       "    </tr>\n",
       "    <tr>\n",
       "      <th>FSA</th>\n",
       "      <td>14872</td>\n",
       "      <td>None</td>\n",
       "      <td>None</td>\n",
       "      <td>M1B</td>\n",
       "      <td>M9W</td>\n",
       "    </tr>\n",
       "    <tr>\n",
       "      <th>Source of Infection</th>\n",
       "      <td>15432</td>\n",
       "      <td>None</td>\n",
       "      <td>None</td>\n",
       "      <td>Close contact</td>\n",
       "      <td>Unknown/Missing</td>\n",
       "    </tr>\n",
       "    <tr>\n",
       "      <th>Classification</th>\n",
       "      <td>15432</td>\n",
       "      <td>None</td>\n",
       "      <td>None</td>\n",
       "      <td>CONFIRMED</td>\n",
       "      <td>PROBABLE</td>\n",
       "    </tr>\n",
       "    <tr>\n",
       "      <th>Episode Date</th>\n",
       "      <td>15432</td>\n",
       "      <td>None</td>\n",
       "      <td>None</td>\n",
       "      <td>2020-01-21</td>\n",
       "      <td>2020-08-03</td>\n",
       "    </tr>\n",
       "    <tr>\n",
       "      <th>Reported Date</th>\n",
       "      <td>15432</td>\n",
       "      <td>None</td>\n",
       "      <td>None</td>\n",
       "      <td>2020-01-23</td>\n",
       "      <td>2020-08-03</td>\n",
       "    </tr>\n",
       "    <tr>\n",
       "      <th>Client Gender</th>\n",
       "      <td>15432</td>\n",
       "      <td>None</td>\n",
       "      <td>None</td>\n",
       "      <td>FEMALE</td>\n",
       "      <td>UNKNOWN</td>\n",
       "    </tr>\n",
       "    <tr>\n",
       "      <th>Outcome</th>\n",
       "      <td>15432</td>\n",
       "      <td>None</td>\n",
       "      <td>None</td>\n",
       "      <td>ACTIVE</td>\n",
       "      <td>RESOLVED</td>\n",
       "    </tr>\n",
       "    <tr>\n",
       "      <th>Currently Hospitalized</th>\n",
       "      <td>15432</td>\n",
       "      <td>None</td>\n",
       "      <td>None</td>\n",
       "      <td>No</td>\n",
       "      <td>Yes</td>\n",
       "    </tr>\n",
       "    <tr>\n",
       "      <th>Currently in ICU</th>\n",
       "      <td>15432</td>\n",
       "      <td>None</td>\n",
       "      <td>None</td>\n",
       "      <td>No</td>\n",
       "      <td>Yes</td>\n",
       "    </tr>\n",
       "    <tr>\n",
       "      <th>Currently Intubated</th>\n",
       "      <td>15432</td>\n",
       "      <td>None</td>\n",
       "      <td>None</td>\n",
       "      <td>No</td>\n",
       "      <td>Yes</td>\n",
       "    </tr>\n",
       "    <tr>\n",
       "      <th>Ever Hospitalized</th>\n",
       "      <td>15432</td>\n",
       "      <td>None</td>\n",
       "      <td>None</td>\n",
       "      <td>No</td>\n",
       "      <td>Yes</td>\n",
       "    </tr>\n",
       "    <tr>\n",
       "      <th>Ever in ICU</th>\n",
       "      <td>15432</td>\n",
       "      <td>None</td>\n",
       "      <td>None</td>\n",
       "      <td>No</td>\n",
       "      <td>Yes</td>\n",
       "    </tr>\n",
       "    <tr>\n",
       "      <th>Ever Intubated</th>\n",
       "      <td>15432</td>\n",
       "      <td>None</td>\n",
       "      <td>None</td>\n",
       "      <td>No</td>\n",
       "      <td>Yes</td>\n",
       "    </tr>\n",
       "  </tbody>\n",
       "</table>\n",
       "</div>"
      ],
      "text/plain": [
       "                            0                  1                  2  \\\n",
       "summary                 count               mean             stddev   \n",
       "_id                     15432            23054.5  4454.979012296242   \n",
       "Assigned_ID             15432  7727.875194401244  4468.050671189019   \n",
       "Outbreak Associated     15432               None               None   \n",
       "Age Group               15406               None               None   \n",
       "Neighbourhood Name      14826               None               None   \n",
       "FSA                     14872               None               None   \n",
       "Source of Infection     15432               None               None   \n",
       "Classification          15432               None               None   \n",
       "Episode Date            15432               None               None   \n",
       "Reported Date           15432               None               None   \n",
       "Client Gender           15432               None               None   \n",
       "Outcome                 15432               None               None   \n",
       "Currently Hospitalized  15432               None               None   \n",
       "Currently in ICU        15432               None               None   \n",
       "Currently Intubated     15432               None               None   \n",
       "Ever Hospitalized       15432               None               None   \n",
       "Ever in ICU             15432               None               None   \n",
       "Ever Intubated          15432               None               None   \n",
       "\n",
       "                                          3                   4  \n",
       "summary                                 min                 max  \n",
       "_id                                   15339               30770  \n",
       "Assigned_ID                               1               15485  \n",
       "Outbreak Associated     Outbreak Associated            Sporadic  \n",
       "Age Group                    19 and younger        90 and older  \n",
       "Neighbourhood Name          Agincourt North  Yorkdale-Glen Park  \n",
       "FSA                                     M1B                 M9W  \n",
       "Source of Infection           Close contact     Unknown/Missing  \n",
       "Classification                    CONFIRMED            PROBABLE  \n",
       "Episode Date                     2020-01-21          2020-08-03  \n",
       "Reported Date                    2020-01-23          2020-08-03  \n",
       "Client Gender                        FEMALE             UNKNOWN  \n",
       "Outcome                              ACTIVE            RESOLVED  \n",
       "Currently Hospitalized                   No                 Yes  \n",
       "Currently in ICU                         No                 Yes  \n",
       "Currently Intubated                      No                 Yes  \n",
       "Ever Hospitalized                        No                 Yes  \n",
       "Ever in ICU                              No                 Yes  \n",
       "Ever Intubated                           No                 Yes  "
      ]
     },
     "execution_count": 7,
     "metadata": {},
     "output_type": "execute_result"
    }
   ],
   "source": [
    "company_df.describe().toPandas().transpose()"
   ]
  },
  {
   "cell_type": "code",
   "execution_count": 18,
   "metadata": {},
   "outputs": [
    {
     "name": "stdout",
     "output_type": "stream",
     "text": [
      "Correlation to id for  _id 1.0\n",
      "Correlation to id for  Assigned_ID 0.9999987139408719\n"
     ]
    }
   ],
   "source": [
    "import six\n",
    "for i in company_df.columns:\n",
    "    if not( isinstance(company_df.select(i).take(1)[0][0], six.string_types)):\n",
    "        print( \"Correlation to id for \", i, company_df.stat.corr('_id',i))"
   ]
  },
  {
   "cell_type": "code",
   "execution_count": 20,
   "metadata": {},
   "outputs": [
    {
     "name": "stdout",
     "output_type": "stream",
     "text": [
      "+-------------+-----+\n",
      "|     features|  _id|\n",
      "+-------------+-----+\n",
      "|[15339.0,1.0]|15339|\n",
      "|[15340.0,2.0]|15340|\n",
      "|[15341.0,3.0]|15341|\n",
      "+-------------+-----+\n",
      "only showing top 3 rows\n",
      "\n"
     ]
    }
   ],
   "source": [
    "from pyspark.ml.feature import VectorAssembler\n",
    "vectorAssembler = VectorAssembler(inputCols = ['_id', 'Assigned_ID'], outputCol = 'features')\n",
    "tcompany_df = vectorAssembler.transform(company_df)\n",
    "tcompany_df = tcompany_df.select(['features', '_id'])\n",
    "tcompany_df.show(3)"
   ]
  },
  {
   "cell_type": "code",
   "execution_count": 21,
   "metadata": {},
   "outputs": [],
   "source": [
    "splits = tcompany_df.randomSplit([0.7, 0.3])\n",
    "train_df = splits[0]\n",
    "test_df = splits[1]"
   ]
  },
  {
   "cell_type": "code",
   "execution_count": 23,
   "metadata": {},
   "outputs": [
    {
     "name": "stdout",
     "output_type": "stream",
     "text": [
      "Coefficients: [0.5443612188139115,0.4542319644585528]\n",
      "Intercept: 6994.258998797904\n"
     ]
    }
   ],
   "source": [
    "from pyspark.ml.regression import LinearRegression\n",
    "lr = LinearRegression(featuresCol = 'features', labelCol='_id', maxIter=10, regParam=0.3, elasticNetParam=0.8)\n",
    "lr_model = lr.fit(train_df)\n",
    "print(\"Coefficients: \" + str(lr_model.coefficients))\n",
    "print(\"Intercept: \" + str(lr_model.intercept))"
   ]
  },
  {
   "cell_type": "code",
   "execution_count": null,
   "metadata": {},
   "outputs": [],
   "source": []
  }
 ],
 "metadata": {
  "kernelspec": {
   "display_name": "Python 3",
   "language": "python",
   "name": "python3"
  },
  "language_info": {
   "codemirror_mode": {
    "name": "ipython",
    "version": 3
   },
   "file_extension": ".py",
   "mimetype": "text/x-python",
   "name": "python",
   "nbconvert_exporter": "python",
   "pygments_lexer": "ipython3",
   "version": "3.7.3"
  }
 },
 "nbformat": 4,
 "nbformat_minor": 2
}
