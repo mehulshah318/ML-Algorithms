{
 "cells": [
  {
   "cell_type": "code",
   "execution_count": 2,
   "metadata": {},
   "outputs": [
    {
     "name": "stdout",
     "output_type": "stream",
     "text": [
      "['Good Afternoon']\n",
      "[]\n",
      "[]\n",
      "['Marathon']\n",
      "['Tomah']\n",
      "[]\n",
      "[]\n",
      "['Nashville']\n",
      "['Lebanon']\n",
      "[]\n",
      "[]\n",
      "['Joplin']\n",
      "['Brainerd']\n",
      "['Rosemount']\n",
      "[]\n",
      "[]\n",
      "['Lithonia']\n",
      "['Tomah']\n",
      "[]\n"
     ]
    }
   ],
   "source": [
    "import nltk\n",
    "import xlsxwriter\n",
    "\n",
    "def extract_entity_names(t):\n",
    "    entity_names = []\n",
    "\n",
    "    if hasattr(t, 'label') and t.label:\n",
    "        if t.label() == 'NE':\n",
    "            entity_names.append(' '.join([child[0] for child in t]))\n",
    "        else:\n",
    "            for child in t:\n",
    "                entity_names.extend(extract_entity_names(child))\n",
    "\n",
    "    return entity_names\n",
    "\n",
    "with xlsxwriter.Workbook('test.xlsx') as workbook:\n",
    "    worksheet = workbook.add_worksheet()\n",
    "\n",
    "with open('C:\\\\Users\\\\12499\\\\Desktop\\\\Studies\\\\Sem 2 BDAT\\\\Chris Dyck\\\\Capacity Sample E-mails\\\\Dixie Freight Systems Inc\\\\1.txt', 'r') as f:\n",
    "    for line in f:\n",
    "        sentences = nltk.sent_tokenize(line)\n",
    "        tokenized_sentences = [nltk.word_tokenize(sentence) for sentence in sentences]\n",
    "        tagged_sentences = [nltk.pos_tag(sentence) for sentence in tokenized_sentences]\n",
    "        chunked_sentences = nltk.ne_chunk_sents(tagged_sentences, binary=True)\n",
    "\n",
    "        entities = []\n",
    "        for tree in chunked_sentences:\n",
    "            entities.extend(extract_entity_names(tree))\n",
    "        print(entities)\n",
    "        "
   ]
  },
  {
   "cell_type": "code",
   "execution_count": 4,
   "metadata": {},
   "outputs": [],
   "source": [
    "\n",
    "\n",
    "new_list = [['first', 'second'], ['third', 'four'], [1, 2, 3, 4, 5, 6]]\n",
    "\n",
    "with xlsxwriter.Workbook('test.xlsx') as workbook:\n",
    "    worksheet = workbook.add_worksheet()\n",
    "\n",
    "    for row_num, data in enumerate(new_list):\n",
    "        worksheet.write_row(row_num, 0, data)"
   ]
  },
  {
   "cell_type": "code",
   "execution_count": null,
   "metadata": {},
   "outputs": [],
   "source": []
  }
 ],
 "metadata": {
  "kernelspec": {
   "display_name": "Python 3",
   "language": "python",
   "name": "python3"
  },
  "language_info": {
   "codemirror_mode": {
    "name": "ipython",
    "version": 3
   },
   "file_extension": ".py",
   "mimetype": "text/x-python",
   "name": "python",
   "nbconvert_exporter": "python",
   "pygments_lexer": "ipython3",
   "version": "3.8.1"
  }
 },
 "nbformat": 4,
 "nbformat_minor": 2
}
