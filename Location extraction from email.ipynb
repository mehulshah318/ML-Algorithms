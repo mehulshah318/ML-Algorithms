{
 "cells": [
  {
   "cell_type": "code",
   "execution_count": 1,
   "metadata": {},
   "outputs": [
    {
     "name": "stdout",
     "output_type": "stream",
     "text": [
      "Good Afternoon, looking for outbound freight and inbound capacity let me know if anything matches :\n",
      "\n",
      "Monday\n",
      "1 dry van in Sugar Land, TX\n",
      "1 dry van in Valdosta, GA\n",
      "1 dry van in Marathon, WI\n",
      "1 dry van in Plymouth, IN\n",
      "1 dry van in Tomah, WI\n",
      "1 reefer in Atlanta, GA\n",
      "\n",
      "Tuesday\n",
      "1 dry van in Nashville, TN\n",
      "1 dry van in Varennes,PQ\n",
      "\n",
      "Wednesday\n",
      "1 dry van in Rosemount, MN\n",
      "\n",
      "Thursday\n",
      "1 dry van in Tomah, WI\n",
      "\n",
      "\n",
      "\n",
      "\n",
      "[Description: cid:_1_1387312813872E4C005354D085257FEF]\n",
      "\n",
      " JAY\n",
      " Dixie Freight Systems Inc .\n",
      "Phone # 905-458-4480\n",
      "Fax # 905-458-6892\n",
      "Toll Free# 888-889-0099\n",
      "\n",
      "Website: www.dixiefreightsystems.com<http://www.dixiefreightsystems.com/>\n",
      "E-mail: dispatch@dixiefreightsystems.com<mailto:harpreet@dixiefreightsystems.com>\n",
      "\n",
      "CSA, C-TPAT, PIP, FAST Approved,\n",
      "Canadian & US Bonded\n",
      "\n",
      "\n"
     ]
    }
   ],
   "source": [
    "import email\n",
    "from email import policy\n",
    "from email.parser import BytesParser\n",
    "import glob\n",
    "file_list = glob.glob('C:\\\\Users\\\\12499\\\\Desktop\\\\Studies\\\\Sem 2 BDAT\\\\Chris Dyck\\\\Capacity Sample E-mails\\\\Dixie Freight Systems Inc\\\\*.eml') # returns list of files\n",
    "with open(file_list[2], 'rb') as fp:  # select a specific email file from the list\n",
    "    msg = BytesParser(policy=policy.default).parse(fp)\n",
    "text = msg.get_body(preferencelist=('plain')).get_content()\n",
    "print(text)  # print the email content"
   ]
  },
  {
   "cell_type": "code",
   "execution_count": 2,
   "metadata": {},
   "outputs": [],
   "source": [
    "from geotext import GeoText"
   ]
  },
  {
   "cell_type": "code",
   "execution_count": 8,
   "metadata": {},
   "outputs": [
    {
     "data": {
      "text/plain": [
       "['Mumbai']"
      ]
     },
     "execution_count": 8,
     "metadata": {},
     "output_type": "execute_result"
    }
   ],
   "source": [
    "from geotext import GeoText\n",
    "\n",
    "places = GeoText(\"Mumbai is a great city\")\n",
    "places.cities"
   ]
  },
  {
   "cell_type": "code",
   "execution_count": 43,
   "metadata": {},
   "outputs": [
    {
     "data": {
      "text/plain": [
       "['Nashville', 'Joplin', 'Rosemount']"
      ]
     },
     "execution_count": 43,
     "metadata": {},
     "output_type": "execute_result"
    }
   ],
   "source": [
    "from geotext import GeoText\n",
    "places = GeoText(\"Good Afternoon,  looking for outbound freight and inbound capacity let me know if anything matches : Today 1 dry van in Marathon, WI 1 dry van in Tomah, WITuesday 1 dry van in Nashville, TN 1 dry van in Lebanon, OH Wednesday 1 dry van in Joplin, Mo 1 dry van in Brainerd, MN 1 dry van in Rosemount, MN Thursday 1 dry van in Lithonia, GA 1 dry van in Tomah, WI\")\n",
    "places.cities"
   ]
  },
  {
   "cell_type": "code",
   "execution_count": 53,
   "metadata": {},
   "outputs": [],
   "source": [
    "import numpy as np\n",
    "import matplotlib.pyplot as plt\n",
    "%matplotlib inline\n",
    "\n",
    "import pandas as pd\n",
    "import geopandas as gpd\n",
    "\n",
    "from urllib import request\n",
    "from geotext import GeoText\n",
    "\n",
    "from geopy.geocoders import Nominatim\n",
    "from geopy.exc import GeocoderTimedOut\n",
    "\n",
    "from shapely.geometry import Point, Polygon\n",
    "import descartes"
   ]
  },
  {
   "cell_type": "code",
   "execution_count": 70,
   "metadata": {},
   "outputs": [
    {
     "name": "stdout",
     "output_type": "stream",
     "text": [
      "<class 'str'>, \n",
      "22143, \n",
      "Resent-From: <dispatch@larway.com>\n",
      "Received: from out4-200.antispamcloud.com (185.201.19.200) by\n",
      " LAR-MAIN.larway.local (192.168.1.6) with Microsoft SMTP Server id 14.3.408.0;\n",
      " Mon, 10 Feb 2020 13:46:30 -0500\n",
      "Received: from mail-eopbgr670123.outbound.protection.outlook.com\n",
      " ([40.107.67.123] helo=CAN01-TO1-obe.outbound.protection.outlook.com)\tby\n",
      " mx94.antispamcloud.com with esmtps (TLSv1.2:ECDHE-RSA-AES256-GCM-SHA384:256)\n",
      "\t(Exim 4.92)\t(envelope-from <dispatch@dixiefreightsystems.com>)\tid\n",
      " 1j1E5K-0\n"
     ]
    }
   ],
   "source": [
    "#url = \"https://georgiancollege.sharepoint.com/sites/larway-traderesearchautomationandmarketanalysis/Shared%20Documents/Forms/AllItems.aspx?id=%2Fsites%2Flarway%2Dtraderesearchautomationandmarketanalysis%2FShared%20Documents%2F03%20Discovery%20Prep%20%26%20Notes%2F21%2Etxt&parent=%2Fsites%2Flarway%2Dtraderesearchautomationandmarketanalysis%2FShared%20Documents%2F03%20Discovery%20Prep%20%26%20Notes\"\n",
    "#response = request.urlopen(url)\n",
    "response = open(\"C:\\\\Users\\\\12499\\\\Desktop\\\\Studies\\\\Sem 2 BDAT\\\\Chris Dyck\\\\Capacity Sample E-mails\\\\21.txt\",\"r\")\n",
    "raw = response.read()\n",
    "print(f'{type(raw)}, \\n{len(raw)}, \\n{raw[:501]}')"
   ]
  },
  {
   "cell_type": "code",
   "execution_count": 71,
   "metadata": {},
   "outputs": [
    {
     "data": {
      "text/plain": [
       "['Mon',\n",
       " 'Mon',\n",
       " 'Date',\n",
       " 'Of',\n",
       " 'Date',\n",
       " 'Mon',\n",
       " 'Mon',\n",
       " 'Date',\n",
       " 'Mon',\n",
       " 'Nashville',\n",
       " 'Joplin',\n",
       " 'Rosemount',\n",
       " 'Nashville',\n",
       " 'Joplin',\n",
       " 'Rosemount',\n",
       " 'Mon',\n",
       " 'Mon']"
      ]
     },
     "execution_count": 71,
     "metadata": {},
     "output_type": "execute_result"
    }
   ],
   "source": [
    "places = GeoText(raw)\n",
    "cities = list(places.cities)\n",
    "cities"
   ]
  },
  {
   "cell_type": "code",
   "execution_count": null,
   "metadata": {},
   "outputs": [],
   "source": []
  }
 ],
 "metadata": {
  "kernelspec": {
   "display_name": "Python 3",
   "language": "python",
   "name": "python3"
  },
  "language_info": {
   "codemirror_mode": {
    "name": "ipython",
    "version": 3
   },
   "file_extension": ".py",
   "mimetype": "text/x-python",
   "name": "python",
   "nbconvert_exporter": "python",
   "pygments_lexer": "ipython3",
   "version": "3.7.3"
  }
 },
 "nbformat": 4,
 "nbformat_minor": 2
}
